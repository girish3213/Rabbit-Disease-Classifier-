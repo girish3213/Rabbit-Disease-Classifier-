{
 "cells": [
  {
   "cell_type": "markdown",
   "metadata": {
    "id": "R1KIwz5fWEbm"
   },
   "source": [
    "#  Importing the Libraries\n"
   ]
  },
  {
   "cell_type": "code",
   "execution_count": 1,
   "metadata": {
    "id": "S3CY30NcWBFQ"
   },
   "outputs": [],
   "source": [
    "import numpy as np\n",
    "import pandas as pd\n",
    "import matplotlib.pyplot as plt"
   ]
  },
  {
   "cell_type": "markdown",
   "metadata": {
    "id": "cEytl57CWN2-"
   },
   "source": [
    "# Importing the dataset\n"
   ]
  },
  {
   "cell_type": "code",
   "execution_count": 2,
   "metadata": {
    "id": "eKrsCKdUWaNa"
   },
   "outputs": [],
   "source": [
    "dataset = pd.read_csv('rabbit_disease.csv')\n",
    "X = dataset.iloc[ : , : -1].values\n",
    "y = dataset.iloc[ : , -1].values"
   ]
  },
  {
   "cell_type": "code",
   "execution_count": 3,
   "metadata": {
    "colab": {
     "base_uri": "https://localhost:8080/",
     "height": 270
    },
    "id": "IUXBif3pWsxS",
    "outputId": "68bd9f10-7108-4e03-a51c-9f4bde1d8296"
   },
   "outputs": [
    {
     "data": {
      "text/html": [
       "<div>\n",
       "<style scoped>\n",
       "    .dataframe tbody tr th:only-of-type {\n",
       "        vertical-align: middle;\n",
       "    }\n",
       "\n",
       "    .dataframe tbody tr th {\n",
       "        vertical-align: top;\n",
       "    }\n",
       "\n",
       "    .dataframe thead th {\n",
       "        text-align: right;\n",
       "    }\n",
       "</style>\n",
       "<table border=\"1\" class=\"dataframe\">\n",
       "  <thead>\n",
       "    <tr style=\"text-align: right;\">\n",
       "      <th></th>\n",
       "      <th>Time</th>\n",
       "      <th>Compound1</th>\n",
       "      <th>Compound2</th>\n",
       "      <th>Compound3</th>\n",
       "      <th>Compound4</th>\n",
       "      <th>Compound5</th>\n",
       "      <th>Compound6</th>\n",
       "      <th>Compound7</th>\n",
       "      <th>Compound8</th>\n",
       "      <th>Compound9</th>\n",
       "      <th>...</th>\n",
       "      <th>Compound21</th>\n",
       "      <th>Compound22</th>\n",
       "      <th>Compound23</th>\n",
       "      <th>Compound24</th>\n",
       "      <th>Compound25</th>\n",
       "      <th>Compound26</th>\n",
       "      <th>Compound27</th>\n",
       "      <th>Compound28</th>\n",
       "      <th>Compound29</th>\n",
       "      <th>hasDisease</th>\n",
       "    </tr>\n",
       "  </thead>\n",
       "  <tbody>\n",
       "    <tr>\n",
       "      <th>0</th>\n",
       "      <td>0.0</td>\n",
       "      <td>-1.359807</td>\n",
       "      <td>-0.072781</td>\n",
       "      <td>2.536347</td>\n",
       "      <td>1.378155</td>\n",
       "      <td>-0.338321</td>\n",
       "      <td>0.462388</td>\n",
       "      <td>0.239599</td>\n",
       "      <td>0.098698</td>\n",
       "      <td>0.363787</td>\n",
       "      <td>...</td>\n",
       "      <td>-0.018307</td>\n",
       "      <td>0.277838</td>\n",
       "      <td>-0.110474</td>\n",
       "      <td>0.066928</td>\n",
       "      <td>0.128539</td>\n",
       "      <td>-0.189115</td>\n",
       "      <td>0.133558</td>\n",
       "      <td>-0.021053</td>\n",
       "      <td>149.62</td>\n",
       "      <td>0</td>\n",
       "    </tr>\n",
       "    <tr>\n",
       "      <th>1</th>\n",
       "      <td>0.0</td>\n",
       "      <td>1.191857</td>\n",
       "      <td>0.266151</td>\n",
       "      <td>0.166480</td>\n",
       "      <td>0.448154</td>\n",
       "      <td>0.060018</td>\n",
       "      <td>-0.082361</td>\n",
       "      <td>-0.078803</td>\n",
       "      <td>0.085102</td>\n",
       "      <td>-0.255425</td>\n",
       "      <td>...</td>\n",
       "      <td>-0.225775</td>\n",
       "      <td>-0.638672</td>\n",
       "      <td>0.101288</td>\n",
       "      <td>-0.339846</td>\n",
       "      <td>0.167170</td>\n",
       "      <td>0.125895</td>\n",
       "      <td>-0.008983</td>\n",
       "      <td>0.014724</td>\n",
       "      <td>2.69</td>\n",
       "      <td>0</td>\n",
       "    </tr>\n",
       "    <tr>\n",
       "      <th>2</th>\n",
       "      <td>1.0</td>\n",
       "      <td>-1.358354</td>\n",
       "      <td>-1.340163</td>\n",
       "      <td>1.773209</td>\n",
       "      <td>0.379780</td>\n",
       "      <td>-0.503198</td>\n",
       "      <td>1.800499</td>\n",
       "      <td>0.791461</td>\n",
       "      <td>0.247676</td>\n",
       "      <td>-1.514654</td>\n",
       "      <td>...</td>\n",
       "      <td>0.247998</td>\n",
       "      <td>0.771679</td>\n",
       "      <td>0.909412</td>\n",
       "      <td>-0.689281</td>\n",
       "      <td>-0.327642</td>\n",
       "      <td>-0.139097</td>\n",
       "      <td>-0.055353</td>\n",
       "      <td>-0.059752</td>\n",
       "      <td>378.66</td>\n",
       "      <td>0</td>\n",
       "    </tr>\n",
       "    <tr>\n",
       "      <th>3</th>\n",
       "      <td>1.0</td>\n",
       "      <td>-0.966272</td>\n",
       "      <td>-0.185226</td>\n",
       "      <td>1.792993</td>\n",
       "      <td>-0.863291</td>\n",
       "      <td>-0.010309</td>\n",
       "      <td>1.247203</td>\n",
       "      <td>0.237609</td>\n",
       "      <td>0.377436</td>\n",
       "      <td>-1.387024</td>\n",
       "      <td>...</td>\n",
       "      <td>-0.108300</td>\n",
       "      <td>0.005274</td>\n",
       "      <td>-0.190321</td>\n",
       "      <td>-1.175575</td>\n",
       "      <td>0.647376</td>\n",
       "      <td>-0.221929</td>\n",
       "      <td>0.062723</td>\n",
       "      <td>0.061458</td>\n",
       "      <td>123.50</td>\n",
       "      <td>0</td>\n",
       "    </tr>\n",
       "    <tr>\n",
       "      <th>4</th>\n",
       "      <td>2.0</td>\n",
       "      <td>-1.158233</td>\n",
       "      <td>0.877737</td>\n",
       "      <td>1.548718</td>\n",
       "      <td>0.403034</td>\n",
       "      <td>-0.407193</td>\n",
       "      <td>0.095921</td>\n",
       "      <td>0.592941</td>\n",
       "      <td>-0.270533</td>\n",
       "      <td>0.817739</td>\n",
       "      <td>...</td>\n",
       "      <td>-0.009431</td>\n",
       "      <td>0.798278</td>\n",
       "      <td>-0.137458</td>\n",
       "      <td>0.141267</td>\n",
       "      <td>-0.206010</td>\n",
       "      <td>0.502292</td>\n",
       "      <td>0.219422</td>\n",
       "      <td>0.215153</td>\n",
       "      <td>69.99</td>\n",
       "      <td>0</td>\n",
       "    </tr>\n",
       "  </tbody>\n",
       "</table>\n",
       "<p>5 rows × 31 columns</p>\n",
       "</div>"
      ],
      "text/plain": [
       "   Time  Compound1  Compound2  Compound3  Compound4  Compound5  Compound6  \\\n",
       "0   0.0  -1.359807  -0.072781   2.536347   1.378155  -0.338321   0.462388   \n",
       "1   0.0   1.191857   0.266151   0.166480   0.448154   0.060018  -0.082361   \n",
       "2   1.0  -1.358354  -1.340163   1.773209   0.379780  -0.503198   1.800499   \n",
       "3   1.0  -0.966272  -0.185226   1.792993  -0.863291  -0.010309   1.247203   \n",
       "4   2.0  -1.158233   0.877737   1.548718   0.403034  -0.407193   0.095921   \n",
       "\n",
       "   Compound7  Compound8  Compound9  ...  Compound21  Compound22  Compound23  \\\n",
       "0   0.239599   0.098698   0.363787  ...   -0.018307    0.277838   -0.110474   \n",
       "1  -0.078803   0.085102  -0.255425  ...   -0.225775   -0.638672    0.101288   \n",
       "2   0.791461   0.247676  -1.514654  ...    0.247998    0.771679    0.909412   \n",
       "3   0.237609   0.377436  -1.387024  ...   -0.108300    0.005274   -0.190321   \n",
       "4   0.592941  -0.270533   0.817739  ...   -0.009431    0.798278   -0.137458   \n",
       "\n",
       "   Compound24  Compound25  Compound26  Compound27  Compound28  Compound29  \\\n",
       "0    0.066928    0.128539   -0.189115    0.133558   -0.021053      149.62   \n",
       "1   -0.339846    0.167170    0.125895   -0.008983    0.014724        2.69   \n",
       "2   -0.689281   -0.327642   -0.139097   -0.055353   -0.059752      378.66   \n",
       "3   -1.175575    0.647376   -0.221929    0.062723    0.061458      123.50   \n",
       "4    0.141267   -0.206010    0.502292    0.219422    0.215153       69.99   \n",
       "\n",
       "   hasDisease  \n",
       "0           0  \n",
       "1           0  \n",
       "2           0  \n",
       "3           0  \n",
       "4           0  \n",
       "\n",
       "[5 rows x 31 columns]"
      ]
     },
     "execution_count": 3,
     "metadata": {},
     "output_type": "execute_result"
    }
   ],
   "source": [
    "dataset.head()"
   ]
  },
  {
   "cell_type": "markdown",
   "metadata": {},
   "source": [
    "# Exploratory Data Analysis"
   ]
  },
  {
   "cell_type": "code",
   "execution_count": 4,
   "metadata": {
    "id": "xUczk-5HjFeS"
   },
   "outputs": [
    {
     "data": {
      "text/plain": [
       "Time          0\n",
       "Compound1     0\n",
       "Compound2     0\n",
       "Compound3     0\n",
       "Compound4     0\n",
       "Compound5     0\n",
       "Compound6     0\n",
       "Compound7     0\n",
       "Compound8     0\n",
       "Compound9     0\n",
       "Compound10    0\n",
       "Compound11    0\n",
       "Compound12    0\n",
       "Compound13    0\n",
       "Compound14    0\n",
       "Compound15    0\n",
       "Compound16    0\n",
       "Compound17    0\n",
       "Compound18    0\n",
       "Compound19    0\n",
       "Compound20    0\n",
       "Compound21    0\n",
       "Compound22    0\n",
       "Compound23    0\n",
       "Compound24    0\n",
       "Compound25    0\n",
       "Compound26    0\n",
       "Compound27    0\n",
       "Compound28    0\n",
       "Compound29    0\n",
       "hasDisease    0\n",
       "dtype: int64"
      ]
     },
     "execution_count": 4,
     "metadata": {},
     "output_type": "execute_result"
    }
   ],
   "source": [
    "dataset.isnull().sum()"
   ]
  },
  {
   "cell_type": "code",
   "execution_count": 5,
   "metadata": {
    "colab": {
     "base_uri": "https://localhost:8080/"
    },
    "id": "sYVGz6DEXHxv",
    "outputId": "beba4d80-3f01-485c-c0f0-97690c4c1bfa"
   },
   "outputs": [
    {
     "name": "stdout",
     "output_type": "stream",
     "text": [
      "<class 'pandas.core.frame.DataFrame'>\n",
      "RangeIndex: 284807 entries, 0 to 284806\n",
      "Data columns (total 31 columns):\n",
      " #   Column      Non-Null Count   Dtype  \n",
      "---  ------      --------------   -----  \n",
      " 0   Time        284807 non-null  float64\n",
      " 1   Compound1   284807 non-null  float64\n",
      " 2   Compound2   284807 non-null  float64\n",
      " 3   Compound3   284807 non-null  float64\n",
      " 4   Compound4   284807 non-null  float64\n",
      " 5   Compound5   284807 non-null  float64\n",
      " 6   Compound6   284807 non-null  float64\n",
      " 7   Compound7   284807 non-null  float64\n",
      " 8   Compound8   284807 non-null  float64\n",
      " 9   Compound9   284807 non-null  float64\n",
      " 10  Compound10  284807 non-null  float64\n",
      " 11  Compound11  284807 non-null  float64\n",
      " 12  Compound12  284807 non-null  float64\n",
      " 13  Compound13  284807 non-null  float64\n",
      " 14  Compound14  284807 non-null  float64\n",
      " 15  Compound15  284807 non-null  float64\n",
      " 16  Compound16  284807 non-null  float64\n",
      " 17  Compound17  284807 non-null  float64\n",
      " 18  Compound18  284807 non-null  float64\n",
      " 19  Compound19  284807 non-null  float64\n",
      " 20  Compound20  284807 non-null  float64\n",
      " 21  Compound21  284807 non-null  float64\n",
      " 22  Compound22  284807 non-null  float64\n",
      " 23  Compound23  284807 non-null  float64\n",
      " 24  Compound24  284807 non-null  float64\n",
      " 25  Compound25  284807 non-null  float64\n",
      " 26  Compound26  284807 non-null  float64\n",
      " 27  Compound27  284807 non-null  float64\n",
      " 28  Compound28  284807 non-null  float64\n",
      " 29  Compound29  284807 non-null  float64\n",
      " 30  hasDisease  284807 non-null  int64  \n",
      "dtypes: float64(30), int64(1)\n",
      "memory usage: 67.4 MB\n"
     ]
    }
   ],
   "source": [
    "dataset.info()"
   ]
  },
  {
   "cell_type": "code",
   "execution_count": 6,
   "metadata": {},
   "outputs": [
    {
     "data": {
      "text/plain": [
       "0    284315\n",
       "1       492\n",
       "Name: hasDisease, dtype: int64"
      ]
     },
     "execution_count": 6,
     "metadata": {},
     "output_type": "execute_result"
    }
   ],
   "source": [
    "dataset['hasDisease'].value_counts()"
   ]
  },
  {
   "cell_type": "markdown",
   "metadata": {},
   "source": [
    "0 --> No Disease\n",
    "\n",
    "1 --> Disease"
   ]
  },
  {
   "cell_type": "code",
   "execution_count": 7,
   "metadata": {},
   "outputs": [
    {
     "name": "stdout",
     "output_type": "stream",
     "text": [
      "0    0.998273\n",
      "1    0.001727\n",
      "Name: hasDisease, dtype: float64\n"
     ]
    },
    {
     "data": {
      "text/plain": [
       "<AxesSubplot:>"
      ]
     },
     "execution_count": 7,
     "metadata": {},
     "output_type": "execute_result"
    },
    {
     "data": {
      "image/png": "[encoded data removed]",
      "text/plain": [
       "<Figure size 432x288 with 1 Axes>"
      ]
     },
     "metadata": {
      "needs_background": "light"
     },
     "output_type": "display_data"
    }
   ],
   "source": [
    "print(dataset['hasDisease'].value_counts(normalize = True))\n",
    "pd.value_counts(dataset['hasDisease']).plot(kind = \"bar\")\n"
   ]
  },
  {
   "cell_type": "code",
   "execution_count": 8,
   "metadata": {
    "colab": {
     "base_uri": "https://localhost:8080/"
    },
    "id": "HricKlePXYtg",
    "outputId": "bc0fe241-7af3-4f3b-fb24-cbb7040c6866"
   },
   "outputs": [
    {
     "data": {
      "text/plain": [
       "(284807, 31)"
      ]
     },
     "execution_count": 8,
     "metadata": {},
     "output_type": "execute_result"
    }
   ],
   "source": [
    "dataset.shape"
   ]
  },
  {
   "cell_type": "markdown",
   "metadata": {
    "id": "TOLPbJwVYlO0"
   },
   "source": [
    "# Splitting the dataset into training and test set"
   ]
  },
  {
   "cell_type": "code",
   "execution_count": 9,
   "metadata": {
    "id": "8t5yvCyzYYuc"
   },
   "outputs": [],
   "source": [
    "from sklearn.model_selection import train_test_split\n",
    "X_train, X_test, y_train, y_test = train_test_split(X , y , test_size = 0.2)"
   ]
  },
  {
   "cell_type": "code",
   "execution_count": 10,
   "metadata": {
    "colab": {
     "base_uri": "https://localhost:8080/"
    },
    "id": "nyo_r3DlY5Z9",
    "outputId": "96512601-d44a-411e-e4ab-2b45d870625e"
   },
   "outputs": [
    {
     "name": "stdout",
     "output_type": "stream",
     "text": [
      "[[ 1.63296000e+05  2.01746465e+00 -4.66051620e-02 ... -1.94024600e-02\n",
      "  -6.84198780e-02  1.00000000e+00]\n",
      " [ 7.31500000e+03 -1.18420171e+00 -1.14096161e-01 ... -1.29983967e-01\n",
      "   7.02059050e-02  1.79400000e+02]\n",
      " [ 5.90390000e+04  1.23764048e+00  2.00170618e-01 ... -3.59605970e-02\n",
      "   1.42117980e-02  8.90000000e-01]\n",
      " ...\n",
      " [ 2.94030000e+04  1.20295369e+00  2.37379640e-01 ... -2.96753520e-02\n",
      "   1.19210340e-02  1.98000000e+00]\n",
      " [ 1.47787000e+05  9.10992560e-02  1.04140990e+00 ... -1.85266362e-01\n",
      "  -1.31025940e-01  1.00000000e+00]\n",
      " [ 1.53250000e+05 -1.11446444e+00  1.15067258e+00 ...  1.36477687e-01\n",
      "   1.19498899e-01  5.68200000e+01]]\n"
     ]
    }
   ],
   "source": [
    "print(X_train)"
   ]
  },
  {
   "cell_type": "code",
   "execution_count": 11,
   "metadata": {
    "colab": {
     "base_uri": "https://localhost:8080/"
    },
    "id": "qhfgRx78Y6ya",
    "outputId": "087019d7-ffc6-4762-f0a2-14e7969f4508"
   },
   "outputs": [
    {
     "name": "stdout",
     "output_type": "stream",
     "text": [
      "[0 0 0 ... 0 0 0]\n"
     ]
    }
   ],
   "source": [
    "print(y_train)"
   ]
  },
  {
   "cell_type": "code",
   "execution_count": 12,
   "metadata": {
    "colab": {
     "base_uri": "https://localhost:8080/"
    },
    "id": "YorGvdWBY8Hv",
    "outputId": "4f40abfe-fd8e-4bcd-ee59-71dfbf3607f1"
   },
   "outputs": [
    {
     "name": "stdout",
     "output_type": "stream",
     "text": [
      "[[ 2.30670000e+04 -2.93517646e+00 -1.93114227e+00 ... -1.44778290e-01\n",
      "   8.14312880e-02  6.15000000e+00]\n",
      " [ 3.90030000e+04 -1.14250577e+00 -2.36053218e-01 ...  3.39808360e-02\n",
      "   7.83832410e-02  8.15900000e+01]\n",
      " [ 1.52674000e+05 -1.41587902e+00  1.19425178e+00 ... -3.13052940e-01\n",
      "  -4.61616020e-02  2.50000000e+01]\n",
      " ...\n",
      " [ 1.27989000e+05  5.89437730e-02  5.40497780e-01 ...  5.15118540e-02\n",
      "  -2.84672810e-01  2.87200000e+01]\n",
      " [ 7.54090000e+04  1.07883742e+00 -1.54134593e-01 ...  4.59697900e-02\n",
      "   1.82102430e-02  4.12000000e+01]\n",
      " [ 7.80260000e+04 -7.67062532e-01  4.80113820e-01 ...  1.89847950e-01\n",
      "  -8.21814810e-02  1.00000000e+00]]\n"
     ]
    }
   ],
   "source": [
    "print(X_test)"
   ]
  },
  {
   "cell_type": "code",
   "execution_count": 13,
   "metadata": {
    "colab": {
     "base_uri": "https://localhost:8080/"
    },
    "id": "xfjmH0XuY-CR",
    "outputId": "d9b2b682-f1dc-481f-fadc-fb032d8d3ccf"
   },
   "outputs": [
    {
     "name": "stdout",
     "output_type": "stream",
     "text": [
      "[0 0 0 ... 0 0 0]\n"
     ]
    }
   ],
   "source": [
    "print(y_test)"
   ]
  },
  {
   "cell_type": "markdown",
   "metadata": {
    "id": "uFeekVpnabnu"
   },
   "source": [
    "# Feature Scaling"
   ]
  },
  {
   "attachments": {
    "sc.jpg": {
     "image/jpeg": "[encoded data removed]"
    }
   },
   "cell_type": "markdown",
   "metadata": {},
   "source": [
    "![sc.jpg](attachment:sc.jpg)"
   ]
  },
  {
   "cell_type": "code",
   "execution_count": 14,
   "metadata": {
    "id": "Yaj7o1laaHMa"
   },
   "outputs": [],
   "source": [
    "from sklearn.preprocessing import StandardScaler\n",
    "sc = StandardScaler()\n",
    "X_train = sc.fit_transform(X_train)\n",
    "X_test = sc.transform(X_test)"
   ]
  },
  {
   "cell_type": "code",
   "execution_count": 15,
   "metadata": {
    "colab": {
     "base_uri": "https://localhost:8080/"
    },
    "id": "mAjxA-n9aggp",
    "outputId": "af7917e6-47d3-4994-99da-3ad54a963311"
   },
   "outputs": [
    {
     "name": "stdout",
     "output_type": "stream",
     "text": [
      "[[ 1.44110658  1.03134261 -0.02858763 ... -0.04758975 -0.20740663\n",
      "  -0.3446872 ]\n",
      " [-1.84397303 -0.6033995  -0.06941226 ... -0.31973598  0.21461684\n",
      "   0.3587104 ]\n",
      " [-0.75462588  0.63317139  0.12068455 ... -0.0883401   0.04415196\n",
      "  -0.34512091]\n",
      " ...\n",
      " [-1.37878279  0.61546063  0.14319192 ... -0.07287181  0.03717811\n",
      "  -0.34082324]\n",
      " [ 1.11447513  0.04775773  0.62954173 ... -0.45578852 -0.39800052\n",
      "  -0.3446872 ]\n",
      " [ 1.22953011 -0.56779228  0.69563362 ...  0.33603854  0.36468128\n",
      "  -0.12459945]]\n"
     ]
    }
   ],
   "source": [
    "print(X_train)"
   ]
  },
  {
   "cell_type": "code",
   "execution_count": 16,
   "metadata": {
    "colab": {
     "base_uri": "https://localhost:8080/"
    },
    "id": "OSWPOKPBajlA",
    "outputId": "992d40ca-38de-4922-b193-7e0b1bf7c611"
   },
   "outputs": [
    {
     "name": "stdout",
     "output_type": "stream",
     "text": [
      "[[-1.51222382 -1.4974315  -1.16852515 ... -0.3561455   0.24879068\n",
      "  -0.32438172]\n",
      " [-1.17659942 -0.58210993 -0.14318285 ...  0.08378902  0.2395114\n",
      "  -0.02693601]\n",
      " [ 1.2173991  -0.72169186  0.72199424 ... -0.77027723 -0.13964496\n",
      "  -0.25005972]\n",
      " ...\n",
      " [ 0.69751405  0.03133943  0.32654503 ...  0.12693367 -0.86575323\n",
      "  -0.23539246]\n",
      " [-0.40986111  0.55208797 -0.0936311  ...  0.1132944   0.05632457\n",
      "  -0.18618617]\n",
      " [-0.35474508 -0.39041198  0.29001938 ...  0.46738524 -0.24930158\n",
      "  -0.3446872 ]]\n"
     ]
    }
   ],
   "source": [
    "print(X_test)       "
   ]
  },
  {
   "cell_type": "markdown",
   "metadata": {
    "id": "N1ue2ctSZOpV"
   },
   "source": [
    "# Training the Logistic Regression model on the Training set"
   ]
  },
  {
   "cell_type": "markdown",
   "metadata": {},
   "source": [
    "Target variables i.e 'y' is binary. So, logistic regression is used."
   ]
  },
  {
   "cell_type": "code",
   "execution_count": 18,
   "metadata": {
    "colab": {
     "base_uri": "https://localhost:8080/"
    },
    "id": "9MAur0MoZOXu",
    "outputId": "861ee99b-96c1-4887-b936-15ba196bf569"
   },
   "outputs": [
    {
     "data": {
      "text/plain": [
       "LogisticRegression(max_iter=1000)"
      ]
     },
     "execution_count": 18,
     "metadata": {},
     "output_type": "execute_result"
    }
   ],
   "source": [
    "from sklearn.linear_model import LogisticRegression\n",
    "classifier = LogisticRegression(max_iter = 1000) #max_iter: Maximum number of iterations taken for the solvers to converge.\n",
    "classifier.fit(X_train , y_train)"
   ]
  },
  {
   "cell_type": "markdown",
   "metadata": {
    "id": "3XKtWiAVbXlk"
   },
   "source": [
    "# Predicting the test set results"
   ]
  },
  {
   "cell_type": "code",
   "execution_count": 19,
   "metadata": {
    "colab": {
     "base_uri": "https://localhost:8080/"
    },
    "id": "cz7BYSZmbbGl",
    "outputId": "4c29574a-bb1e-4b2d-e5f0-7cb48d44f067"
   },
   "outputs": [
    {
     "name": "stdout",
     "output_type": "stream",
     "text": [
      "[[0 0]\n",
      " [0 0]\n",
      " [0 0]\n",
      " ...\n",
      " [0 0]\n",
      " [0 0]\n",
      " [0 0]]\n"
     ]
    }
   ],
   "source": [
    "y_test_pred = classifier.predict(X_test)\n",
    "print(np.concatenate((y_test_pred.reshape(len(y_test_pred), 1),y_test.reshape(len(y_test),1)),1))"
   ]
  },
  {
   "cell_type": "code",
   "execution_count": 20,
   "metadata": {},
   "outputs": [
    {
     "name": "stdout",
     "output_type": "stream",
     "text": [
      "[[0 0]\n",
      " [0 0]\n",
      " [0 0]\n",
      " ...\n",
      " [0 0]\n",
      " [0 0]\n",
      " [0 0]]\n"
     ]
    }
   ],
   "source": [
    "y_train_pred = classifier.predict(X_train)\n",
    "print(np.concatenate((y_train_pred.reshape(len(y_train_pred), 1),y_train.reshape(len(y_train),1)),1))"
   ]
  },
  {
   "cell_type": "markdown",
   "metadata": {
    "id": "qwX8prswx4Ho"
   },
   "source": [
    "# Confusion Matrix and Accuracy Score\n"
   ]
  },
  {
   "cell_type": "code",
   "execution_count": 23,
   "metadata": {
    "colab": {
     "base_uri": "https://localhost:8080/"
    },
    "id": "hGI9PVQ9x3zC",
    "outputId": "694bb053-df21-4967-c4c7-af64500f7263"
   },
   "outputs": [
    {
     "name": "stdout",
     "output_type": "stream",
     "text": [
      "[[56861    10]\n",
      " [   31    60]]\n"
     ]
    }
   ],
   "source": [
    "from sklearn.metrics import confusion_matrix, accuracy_score , classification_report\n",
    "cm = confusion_matrix(y_test , y_test_pred)\n",
    "print(cm)"
   ]
  },
  {
   "cell_type": "code",
   "execution_count": 24,
   "metadata": {},
   "outputs": [
    {
     "data": {
      "text/plain": [
       "99.92802219023208"
      ]
     },
     "execution_count": 24,
     "metadata": {},
     "output_type": "execute_result"
    }
   ],
   "source": [
    "accuracy_score(y_test,y_test_pred)*100"
   ]
  },
  {
   "cell_type": "code",
   "execution_count": 25,
   "metadata": {},
   "outputs": [
    {
     "data": {
      "text/plain": [
       "99.92714345278588"
      ]
     },
     "execution_count": 25,
     "metadata": {},
     "output_type": "execute_result"
    }
   ],
   "source": [
    "accuracy_score(y_train,y_train_pred)*100"
   ]
  },
  {
   "cell_type": "markdown",
   "metadata": {},
   "source": [
    "The accuracy scores on test and training data are almost equal. So, model is not over-fitted."
   ]
  },
  {
   "cell_type": "code",
   "execution_count": 27,
   "metadata": {},
   "outputs": [
    {
     "name": "stdout",
     "output_type": "stream",
     "text": [
      "              precision    recall  f1-score   support\n",
      "\n",
      "           0       1.00      1.00      1.00     56871\n",
      "           1       0.86      0.66      0.75        91\n",
      "\n",
      "    accuracy                           1.00     56962\n",
      "   macro avg       0.93      0.83      0.87     56962\n",
      "weighted avg       1.00      1.00      1.00     56962\n",
      "\n"
     ]
    }
   ],
   "source": [
    "print(classification_report(y_test , y_test_pred))"
   ]
  }
 ],
 "metadata": {
  "colab": {
   "collapsed_sections": [],
   "name": "LogisticRegression",
   "provenance": []
  },
  "kernelspec": {
   "display_name": "Python 3 (ipykernel)",
   "language": "python",
   "name": "python3"
  },
  "language_info": {
   "codemirror_mode": {
    "name": "ipython",
    "version": 3
   },
   "file_extension": ".py",
   "mimetype": "text/x-python",
   "name": "python",
   "nbconvert_exporter": "python",
   "pygments_lexer": "ipython3",
   "version": "3.9.7"
  }
 },
 "nbformat": 4,
 "nbformat_minor": 1
}
