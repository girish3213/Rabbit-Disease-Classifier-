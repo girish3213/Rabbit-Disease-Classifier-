{
 "cells": [
  {
   "cell_type": "markdown",
   "metadata": {
    "id": "R1KIwz5fWEbm"
   },
   "source": [
    "#  Importing the Libraries\n"
   ]
  },
  {
   "cell_type": "code",
   "execution_count": 2,
   "metadata": {
    "id": "S3CY30NcWBFQ"
   },
   "outputs": [],
   "source": [
    "import numpy as np\n",
    "import pandas as pd\n",
    "import matplotlib.pyplot as plt"
   ]
  },
  {
   "cell_type": "markdown",
   "metadata": {
    "id": "cEytl57CWN2-"
   },
   "source": [
    "# Importing the dataset\n"
   ]
  },
  {
   "cell_type": "code",
   "execution_count": 3,
   "metadata": {
    "id": "eKrsCKdUWaNa"
   },
   "outputs": [],
   "source": [
    "dataset = pd.read_csv('rabbit_disease.csv')\n",
    "X = dataset.iloc[ : , : -1].values\n",
    "y = dataset.iloc[ : , -1].values"
   ]
  },
  {
   "cell_type": "code",
   "execution_count": 4,
   "metadata": {
    "colab": {
     "base_uri": "https://localhost:8080/",
     "height": 270
    },
    "id": "IUXBif3pWsxS",
    "outputId": "68bd9f10-7108-4e03-a51c-9f4bde1d8296"
   },
   "outputs": [
    {
     "data": {
      "text/html": [
       "<div>\n",
       "<style scoped>\n",
       "    .dataframe tbody tr th:only-of-type {\n",
       "        vertical-align: middle;\n",
       "    }\n",
       "\n",
       "    .dataframe tbody tr th {\n",
       "        vertical-align: top;\n",
       "    }\n",
       "\n",
       "    .dataframe thead th {\n",
       "        text-align: right;\n",
       "    }\n",
       "</style>\n",
       "<table border=\"1\" class=\"dataframe\">\n",
       "  <thead>\n",
       "    <tr style=\"text-align: right;\">\n",
       "      <th></th>\n",
       "      <th>Time</th>\n",
       "      <th>Compound1</th>\n",
       "      <th>Compound2</th>\n",
       "      <th>Compound3</th>\n",
       "      <th>Compound4</th>\n",
       "      <th>Compound5</th>\n",
       "      <th>Compound6</th>\n",
       "      <th>Compound7</th>\n",
       "      <th>Compound8</th>\n",
       "      <th>Compound9</th>\n",
       "      <th>...</th>\n",
       "      <th>Compound21</th>\n",
       "      <th>Compound22</th>\n",
       "      <th>Compound23</th>\n",
       "      <th>Compound24</th>\n",
       "      <th>Compound25</th>\n",
       "      <th>Compound26</th>\n",
       "      <th>Compound27</th>\n",
       "      <th>Compound28</th>\n",
       "      <th>Compound29</th>\n",
       "      <th>hasDisease</th>\n",
       "    </tr>\n",
       "  </thead>\n",
       "  <tbody>\n",
       "    <tr>\n",
       "      <th>0</th>\n",
       "      <td>0.0</td>\n",
       "      <td>-1.359807</td>\n",
       "      <td>-0.072781</td>\n",
       "      <td>2.536347</td>\n",
       "      <td>1.378155</td>\n",
       "      <td>-0.338321</td>\n",
       "      <td>0.462388</td>\n",
       "      <td>0.239599</td>\n",
       "      <td>0.098698</td>\n",
       "      <td>0.363787</td>\n",
       "      <td>...</td>\n",
       "      <td>-0.018307</td>\n",
       "      <td>0.277838</td>\n",
       "      <td>-0.110474</td>\n",
       "      <td>0.066928</td>\n",
       "      <td>0.128539</td>\n",
       "      <td>-0.189115</td>\n",
       "      <td>0.133558</td>\n",
       "      <td>-0.021053</td>\n",
       "      <td>149.62</td>\n",
       "      <td>0</td>\n",
       "    </tr>\n",
       "    <tr>\n",
       "      <th>1</th>\n",
       "      <td>0.0</td>\n",
       "      <td>1.191857</td>\n",
       "      <td>0.266151</td>\n",
       "      <td>0.166480</td>\n",
       "      <td>0.448154</td>\n",
       "      <td>0.060018</td>\n",
       "      <td>-0.082361</td>\n",
       "      <td>-0.078803</td>\n",
       "      <td>0.085102</td>\n",
       "      <td>-0.255425</td>\n",
       "      <td>...</td>\n",
       "      <td>-0.225775</td>\n",
       "      <td>-0.638672</td>\n",
       "      <td>0.101288</td>\n",
       "      <td>-0.339846</td>\n",
       "      <td>0.167170</td>\n",
       "      <td>0.125895</td>\n",
       "      <td>-0.008983</td>\n",
       "      <td>0.014724</td>\n",
       "      <td>2.69</td>\n",
       "      <td>0</td>\n",
       "    </tr>\n",
       "    <tr>\n",
       "      <th>2</th>\n",
       "      <td>1.0</td>\n",
       "      <td>-1.358354</td>\n",
       "      <td>-1.340163</td>\n",
       "      <td>1.773209</td>\n",
       "      <td>0.379780</td>\n",
       "      <td>-0.503198</td>\n",
       "      <td>1.800499</td>\n",
       "      <td>0.791461</td>\n",
       "      <td>0.247676</td>\n",
       "      <td>-1.514654</td>\n",
       "      <td>...</td>\n",
       "      <td>0.247998</td>\n",
       "      <td>0.771679</td>\n",
       "      <td>0.909412</td>\n",
       "      <td>-0.689281</td>\n",
       "      <td>-0.327642</td>\n",
       "      <td>-0.139097</td>\n",
       "      <td>-0.055353</td>\n",
       "      <td>-0.059752</td>\n",
       "      <td>378.66</td>\n",
       "      <td>0</td>\n",
       "    </tr>\n",
       "    <tr>\n",
       "      <th>3</th>\n",
       "      <td>1.0</td>\n",
       "      <td>-0.966272</td>\n",
       "      <td>-0.185226</td>\n",
       "      <td>1.792993</td>\n",
       "      <td>-0.863291</td>\n",
       "      <td>-0.010309</td>\n",
       "      <td>1.247203</td>\n",
       "      <td>0.237609</td>\n",
       "      <td>0.377436</td>\n",
       "      <td>-1.387024</td>\n",
       "      <td>...</td>\n",
       "      <td>-0.108300</td>\n",
       "      <td>0.005274</td>\n",
       "      <td>-0.190321</td>\n",
       "      <td>-1.175575</td>\n",
       "      <td>0.647376</td>\n",
       "      <td>-0.221929</td>\n",
       "      <td>0.062723</td>\n",
       "      <td>0.061458</td>\n",
       "      <td>123.50</td>\n",
       "      <td>0</td>\n",
       "    </tr>\n",
       "    <tr>\n",
       "      <th>4</th>\n",
       "      <td>2.0</td>\n",
       "      <td>-1.158233</td>\n",
       "      <td>0.877737</td>\n",
       "      <td>1.548718</td>\n",
       "      <td>0.403034</td>\n",
       "      <td>-0.407193</td>\n",
       "      <td>0.095921</td>\n",
       "      <td>0.592941</td>\n",
       "      <td>-0.270533</td>\n",
       "      <td>0.817739</td>\n",
       "      <td>...</td>\n",
       "      <td>-0.009431</td>\n",
       "      <td>0.798278</td>\n",
       "      <td>-0.137458</td>\n",
       "      <td>0.141267</td>\n",
       "      <td>-0.206010</td>\n",
       "      <td>0.502292</td>\n",
       "      <td>0.219422</td>\n",
       "      <td>0.215153</td>\n",
       "      <td>69.99</td>\n",
       "      <td>0</td>\n",
       "    </tr>\n",
       "  </tbody>\n",
       "</table>\n",
       "<p>5 rows × 31 columns</p>\n",
       "</div>"
      ],
      "text/plain": [
       "   Time  Compound1  Compound2  Compound3  Compound4  Compound5  Compound6  \\\n",
       "0   0.0  -1.359807  -0.072781   2.536347   1.378155  -0.338321   0.462388   \n",
       "1   0.0   1.191857   0.266151   0.166480   0.448154   0.060018  -0.082361   \n",
       "2   1.0  -1.358354  -1.340163   1.773209   0.379780  -0.503198   1.800499   \n",
       "3   1.0  -0.966272  -0.185226   1.792993  -0.863291  -0.010309   1.247203   \n",
       "4   2.0  -1.158233   0.877737   1.548718   0.403034  -0.407193   0.095921   \n",
       "\n",
       "   Compound7  Compound8  Compound9  ...  Compound21  Compound22  Compound23  \\\n",
       "0   0.239599   0.098698   0.363787  ...   -0.018307    0.277838   -0.110474   \n",
       "1  -0.078803   0.085102  -0.255425  ...   -0.225775   -0.638672    0.101288   \n",
       "2   0.791461   0.247676  -1.514654  ...    0.247998    0.771679    0.909412   \n",
       "3   0.237609   0.377436  -1.387024  ...   -0.108300    0.005274   -0.190321   \n",
       "4   0.592941  -0.270533   0.817739  ...   -0.009431    0.798278   -0.137458   \n",
       "\n",
       "   Compound24  Compound25  Compound26  Compound27  Compound28  Compound29  \\\n",
       "0    0.066928    0.128539   -0.189115    0.133558   -0.021053      149.62   \n",
       "1   -0.339846    0.167170    0.125895   -0.008983    0.014724        2.69   \n",
       "2   -0.689281   -0.327642   -0.139097   -0.055353   -0.059752      378.66   \n",
       "3   -1.175575    0.647376   -0.221929    0.062723    0.061458      123.50   \n",
       "4    0.141267   -0.206010    0.502292    0.219422    0.215153       69.99   \n",
       "\n",
       "   hasDisease  \n",
       "0           0  \n",
       "1           0  \n",
       "2           0  \n",
       "3           0  \n",
       "4           0  \n",
       "\n",
       "[5 rows x 31 columns]"
      ]
     },
     "execution_count": 4,
     "metadata": {},
     "output_type": "execute_result"
    }
   ],
   "source": [
    "dataset.head()"
   ]
  },
  {
   "cell_type": "markdown",
   "metadata": {},
   "source": [
    "# Exploratory Data Analysis"
   ]
  },
  {
   "cell_type": "code",
   "execution_count": 5,
   "metadata": {
    "id": "xUczk-5HjFeS"
   },
   "outputs": [
    {
     "data": {
      "text/plain": [
       "Time          0\n",
       "Compound1     0\n",
       "Compound2     0\n",
       "Compound3     0\n",
       "Compound4     0\n",
       "Compound5     0\n",
       "Compound6     0\n",
       "Compound7     0\n",
       "Compound8     0\n",
       "Compound9     0\n",
       "Compound10    0\n",
       "Compound11    0\n",
       "Compound12    0\n",
       "Compound13    0\n",
       "Compound14    0\n",
       "Compound15    0\n",
       "Compound16    0\n",
       "Compound17    0\n",
       "Compound18    0\n",
       "Compound19    0\n",
       "Compound20    0\n",
       "Compound21    0\n",
       "Compound22    0\n",
       "Compound23    0\n",
       "Compound24    0\n",
       "Compound25    0\n",
       "Compound26    0\n",
       "Compound27    0\n",
       "Compound28    0\n",
       "Compound29    0\n",
       "hasDisease    0\n",
       "dtype: int64"
      ]
     },
     "execution_count": 5,
     "metadata": {},
     "output_type": "execute_result"
    }
   ],
   "source": [
    "dataset.isnull().sum()"
   ]
  },
  {
   "cell_type": "code",
   "execution_count": 6,
   "metadata": {
    "colab": {
     "base_uri": "https://localhost:8080/"
    },
    "id": "sYVGz6DEXHxv",
    "outputId": "beba4d80-3f01-485c-c0f0-97690c4c1bfa"
   },
   "outputs": [
    {
     "name": "stdout",
     "output_type": "stream",
     "text": [
      "<class 'pandas.core.frame.DataFrame'>\n",
      "RangeIndex: 284807 entries, 0 to 284806\n",
      "Data columns (total 31 columns):\n",
      " #   Column      Non-Null Count   Dtype  \n",
      "---  ------      --------------   -----  \n",
      " 0   Time        284807 non-null  float64\n",
      " 1   Compound1   284807 non-null  float64\n",
      " 2   Compound2   284807 non-null  float64\n",
      " 3   Compound3   284807 non-null  float64\n",
      " 4   Compound4   284807 non-null  float64\n",
      " 5   Compound5   284807 non-null  float64\n",
      " 6   Compound6   284807 non-null  float64\n",
      " 7   Compound7   284807 non-null  float64\n",
      " 8   Compound8   284807 non-null  float64\n",
      " 9   Compound9   284807 non-null  float64\n",
      " 10  Compound10  284807 non-null  float64\n",
      " 11  Compound11  284807 non-null  float64\n",
      " 12  Compound12  284807 non-null  float64\n",
      " 13  Compound13  284807 non-null  float64\n",
      " 14  Compound14  284807 non-null  float64\n",
      " 15  Compound15  284807 non-null  float64\n",
      " 16  Compound16  284807 non-null  float64\n",
      " 17  Compound17  284807 non-null  float64\n",
      " 18  Compound18  284807 non-null  float64\n",
      " 19  Compound19  284807 non-null  float64\n",
      " 20  Compound20  284807 non-null  float64\n",
      " 21  Compound21  284807 non-null  float64\n",
      " 22  Compound22  284807 non-null  float64\n",
      " 23  Compound23  284807 non-null  float64\n",
      " 24  Compound24  284807 non-null  float64\n",
      " 25  Compound25  284807 non-null  float64\n",
      " 26  Compound26  284807 non-null  float64\n",
      " 27  Compound27  284807 non-null  float64\n",
      " 28  Compound28  284807 non-null  float64\n",
      " 29  Compound29  284807 non-null  float64\n",
      " 30  hasDisease  284807 non-null  int64  \n",
      "dtypes: float64(30), int64(1)\n",
      "memory usage: 67.4 MB\n"
     ]
    }
   ],
   "source": [
    "dataset.info()"
   ]
  },
  {
   "cell_type": "markdown",
   "metadata": {},
   "source": [
    "    Dataset does not contain null values and categorical variables."
   ]
  },
  {
   "cell_type": "code",
   "execution_count": 35,
   "metadata": {},
   "outputs": [
    {
     "data": {
      "text/plain": [
       "0    284315\n",
       "1       492\n",
       "Name: hasDisease, dtype: int64"
      ]
     },
     "execution_count": 35,
     "metadata": {},
     "output_type": "execute_result"
    }
   ],
   "source": [
    "dataset['hasDisease'].value_counts()"
   ]
  },
  {
   "cell_type": "markdown",
   "metadata": {},
   "source": [
    "0 --> No Disease\n",
    "\n",
    "1 --> Disease"
   ]
  },
  {
   "cell_type": "code",
   "execution_count": 37,
   "metadata": {},
   "outputs": [
    {
     "name": "stdout",
     "output_type": "stream",
     "text": [
      "0    0.998273\n",
      "1    0.001727\n",
      "Name: hasDisease, dtype: float64\n"
     ]
    },
    {
     "data": {
      "text/plain": [
       "<AxesSubplot:>"
      ]
     },
     "execution_count": 37,
     "metadata": {},
     "output_type": "execute_result"
    },
    {
     "data": {
      "image/png": "[encoded data removed]",
      "text/plain": [
       "<Figure size 432x288 with 1 Axes>"
      ]
     },
     "metadata": {
      "needs_background": "light"
     },
     "output_type": "display_data"
    }
   ],
   "source": [
    "print(dataset['hasDisease'].value_counts(normalize = True))\n",
    "pd.value_counts(dataset['hasDisease']).plot(kind = \"bar\")\n"
   ]
  },
  {
   "cell_type": "markdown",
   "metadata": {},
   "source": [
    "The SMOTE oversampling technique is used as the proportion of the target variable is imbalanced."
   ]
  },
  {
   "cell_type": "code",
   "execution_count": 9,
   "metadata": {},
   "outputs": [],
   "source": [
    "from imblearn.over_sampling import SMOTE\n",
    "smote = SMOTE(sampling_strategy = 'minority')\n",
    "X_sm , y_sm = smote.fit_resample(X , y)"
   ]
  },
  {
   "cell_type": "code",
   "execution_count": 10,
   "metadata": {},
   "outputs": [
    {
     "name": "stdout",
     "output_type": "stream",
     "text": [
      "TARGET DISTRIBTUION BEFORE SMOTE\n",
      "0    284315\n",
      "1       492\n",
      "dtype: int64\n",
      "====================================\n",
      "TARGET DISTRIBTUION AFTER SMOTE\n",
      "0    284315\n",
      "1    284315\n",
      "dtype: int64\n"
     ]
    }
   ],
   "source": [
    "print(\"TARGET DISTRIBTUION BEFORE SMOTE\")\n",
    "print(pd.DataFrame(y).value_counts())\n",
    "print(\"====================================\")\n",
    "print(\"TARGET DISTRIBTUION AFTER SMOTE\")\n",
    "print(pd.DataFrame(y_sm).value_counts())"
   ]
  },
  {
   "cell_type": "code",
   "execution_count": 11,
   "metadata": {
    "colab": {
     "base_uri": "https://localhost:8080/"
    },
    "id": "HricKlePXYtg",
    "outputId": "bc0fe241-7af3-4f3b-fb24-cbb7040c6866"
   },
   "outputs": [
    {
     "data": {
      "text/plain": [
       "(284807, 31)"
      ]
     },
     "execution_count": 11,
     "metadata": {},
     "output_type": "execute_result"
    }
   ],
   "source": [
    "dataset.shape"
   ]
  },
  {
   "cell_type": "markdown",
   "metadata": {
    "id": "TOLPbJwVYlO0"
   },
   "source": [
    "# Splitting the dataset into training and test set"
   ]
  },
  {
   "cell_type": "code",
   "execution_count": 12,
   "metadata": {
    "id": "8t5yvCyzYYuc"
   },
   "outputs": [],
   "source": [
    "from sklearn.model_selection import train_test_split\n",
    "X_train, X_test, y_train, y_test = train_test_split(X_sm , y_sm , test_size = 0.2 , stratify = y_sm)"
   ]
  },
  {
   "cell_type": "code",
   "execution_count": 13,
   "metadata": {
    "colab": {
     "base_uri": "https://localhost:8080/"
    },
    "id": "nyo_r3DlY5Z9",
    "outputId": "96512601-d44a-411e-e4ab-2b45d870625e"
   },
   "outputs": [
    {
     "name": "stdout",
     "output_type": "stream",
     "text": [
      "[[ 1.62237000e+05 -8.24718973e-01  7.09340325e-01 ... -6.73810510e-02\n",
      "   1.82287640e-02  5.95000000e+00]\n",
      " [ 2.93646560e+04 -1.19216814e+01  7.02439244e+00 ...  7.92499438e-01\n",
      "   1.16119008e-01  5.87405581e+01]\n",
      " [ 8.77091747e+03 -1.93626627e+00  3.69628714e+00 ...  4.17486742e-01\n",
      "   2.19576495e-01  1.00000000e+00]\n",
      " ...\n",
      " [ 1.52144000e+05  1.91961142e+00 -7.31769033e-01 ... -1.71600646e-01\n",
      "  -8.33809520e-02  1.15400000e+02]\n",
      " [ 3.81580000e+04 -1.23771497e+00  1.01673071e+00 ... -7.01225420e-02\n",
      "  -5.70139990e-02  2.84000000e+01]\n",
      " [ 7.62117369e+03  5.55701476e-01  2.93329973e+00 ...  5.72913603e-01\n",
      "   2.37722401e-01  1.00000000e+00]]\n"
     ]
    }
   ],
   "source": [
    "print(X_train)"
   ]
  },
  {
   "cell_type": "code",
   "execution_count": 14,
   "metadata": {
    "colab": {
     "base_uri": "https://localhost:8080/"
    },
    "id": "qhfgRx78Y6ya",
    "outputId": "087019d7-ffc6-4762-f0a2-14e7969f4508"
   },
   "outputs": [
    {
     "name": "stdout",
     "output_type": "stream",
     "text": [
      "[0 1 1 ... 0 0 1]\n"
     ]
    }
   ],
   "source": [
    "print(y_train)"
   ]
  },
  {
   "cell_type": "code",
   "execution_count": 15,
   "metadata": {
    "colab": {
     "base_uri": "https://localhost:8080/"
    },
    "id": "YorGvdWBY8Hv",
    "outputId": "4f40abfe-fd8e-4bcd-ee59-71dfbf3607f1"
   },
   "outputs": [
    {
     "name": "stdout",
     "output_type": "stream",
     "text": [
      "[[ 3.61512634e+04 -5.54768132e+00  5.67990305e+00 ...  3.28965020e-01\n",
      "   2.41009572e-01  1.03472810e+02]\n",
      " [ 8.41828908e+04 -1.81063047e+00  1.87458925e+00 ...  1.26338629e+00\n",
      "   7.97351668e-01  4.72279304e+02]\n",
      " [ 6.15530000e+04  1.24567382e+00  1.66975020e-01 ... -3.58663150e-02\n",
      "   1.84945730e-02  8.99000000e+00]\n",
      " ...\n",
      " [ 1.14829000e+05  2.10810835e+00 -2.07739554e-01 ... -9.39989840e-02\n",
      "  -9.19453790e-02  7.60000000e-01]\n",
      " [ 3.43570000e+04  1.13271419e+00  1.99319983e-01 ...  3.96248830e-02\n",
      "   3.31245520e-02  1.47100000e+01]\n",
      " [ 9.38959844e+04 -1.16811241e+01  7.82833782e+00 ... -8.27669210e-01\n",
      "  -1.98933154e-02  1.33631803e+02]]\n"
     ]
    }
   ],
   "source": [
    "print(X_test)"
   ]
  },
  {
   "cell_type": "code",
   "execution_count": 16,
   "metadata": {
    "colab": {
     "base_uri": "https://localhost:8080/"
    },
    "id": "xfjmH0XuY-CR",
    "outputId": "d9b2b682-f1dc-481f-fadc-fb032d8d3ccf"
   },
   "outputs": [
    {
     "name": "stdout",
     "output_type": "stream",
     "text": [
      "[1 1 0 ... 0 0 1]\n"
     ]
    }
   ],
   "source": [
    "print(y_test)"
   ]
  },
  {
   "cell_type": "markdown",
   "metadata": {
    "id": "uFeekVpnabnu"
   },
   "source": [
    "# Feature Scaling"
   ]
  },
  {
   "attachments": {
    "sc.jpg": {
     "image/jpeg": "[encoded data removed]"
    }
   },
   "cell_type": "markdown",
   "metadata": {},
   "source": [
    "![sc.jpg](attachment:sc.jpg)"
   ]
  },
  {
   "cell_type": "code",
   "execution_count": 17,
   "metadata": {
    "id": "Yaj7o1laaHMa"
   },
   "outputs": [],
   "source": [
    "from sklearn.preprocessing import StandardScaler\n",
    "sc = StandardScaler()\n",
    "X_train = sc.fit_transform(X_train)\n",
    "X_test = sc.transform(X_test)"
   ]
  },
  {
   "cell_type": "code",
   "execution_count": 18,
   "metadata": {
    "colab": {
     "base_uri": "https://localhost:8080/"
    },
    "id": "mAjxA-n9aggp",
    "outputId": "af7917e6-47d3-4994-99da-3ad54a963311"
   },
   "outputs": [
    {
     "name": "stdout",
     "output_type": "stream",
     "text": [
      "[[ 1.54550691  0.3030283  -0.33060199 ... -0.15659686 -0.05583577\n",
      "  -0.40397702]\n",
      " [-1.21294171 -1.73624979  1.40817564 ...  0.74758774  0.17696999\n",
      "  -0.1659973 ]\n",
      " [-1.64047063  0.09876032  0.49181978 ...  0.35325305  0.42301595\n",
      "  -0.42629161]\n",
      " ...\n",
      " [ 1.33597481  0.80735125 -0.72739502 ... -0.26618623 -0.29748729\n",
      "   0.08942333]\n",
      " [-1.03039065  0.22713242 -0.24596555 ... -0.15947961 -0.23478055\n",
      "  -0.30277247]\n",
      " [-1.66433947  0.55670683  0.28173989 ...  0.51668806  0.46617114\n",
      "  -0.42629161]]\n"
     ]
    }
   ],
   "source": [
    "print(X_train)"
   ]
  },
  {
   "cell_type": "code",
   "execution_count": 19,
   "metadata": {
    "colab": {
     "base_uri": "https://localhost:8080/"
    },
    "id": "OSWPOKPBajlA",
    "outputId": "992d40ca-38de-4922-b193-7e0b1bf7c611"
   },
   "outputs": [
    {
     "name": "stdout",
     "output_type": "stream",
     "text": [
      "[[-1.07205078 -0.56490594  1.03798581 ...  0.26017037  0.47398879\n",
      "   0.03565559]\n",
      " [-0.07490741  0.12184829 -0.00976398 ...  1.24273637  1.79709964\n",
      "   1.69823441]\n",
      " [-0.54470714  0.68350239 -0.47993609 ... -0.12345838 -0.05520361\n",
      "  -0.3902727 ]\n",
      " ...\n",
      " [ 0.56131014  0.84199115 -0.58310948 ... -0.18458625 -0.31785549\n",
      "  -0.42737352]\n",
      " [-1.10929994  0.66274391 -0.47103027 ... -0.0440776  -0.02041012\n",
      "  -0.36448696]\n",
      " [ 0.12673778 -1.69204281  1.62953284 ... -0.95605779 -0.14649893\n",
      "   0.17161226]]\n"
     ]
    }
   ],
   "source": [
    "print(X_test)       "
   ]
  },
  {
   "cell_type": "markdown",
   "metadata": {
    "id": "N1ue2ctSZOpV"
   },
   "source": [
    "# Training the Logistic Regression model on the Training set"
   ]
  },
  {
   "cell_type": "markdown",
   "metadata": {},
   "source": [
    "Target variables i.e 'y' is binary. So, logistic regression is used."
   ]
  },
  {
   "cell_type": "code",
   "execution_count": 20,
   "metadata": {
    "colab": {
     "base_uri": "https://localhost:8080/"
    },
    "id": "9MAur0MoZOXu",
    "outputId": "861ee99b-96c1-4887-b936-15ba196bf569"
   },
   "outputs": [
    {
     "data": {
      "text/plain": [
       "LogisticRegression(max_iter=1000)"
      ]
     },
     "execution_count": 20,
     "metadata": {},
     "output_type": "execute_result"
    }
   ],
   "source": [
    "from sklearn.linear_model import LogisticRegression\n",
    "classifier = LogisticRegression(max_iter = 1000) #max_iter: Maximum number of iterations taken for the solvers to converge.\n",
    "classifier.fit(X_train , y_train)"
   ]
  },
  {
   "cell_type": "markdown",
   "metadata": {
    "id": "3XKtWiAVbXlk"
   },
   "source": [
    "# Predicting the test set results"
   ]
  },
  {
   "cell_type": "code",
   "execution_count": 21,
   "metadata": {
    "colab": {
     "base_uri": "https://localhost:8080/"
    },
    "id": "cz7BYSZmbbGl",
    "outputId": "4c29574a-bb1e-4b2d-e5f0-7cb48d44f067"
   },
   "outputs": [
    {
     "name": "stdout",
     "output_type": "stream",
     "text": [
      "[[1 1]\n",
      " [1 1]\n",
      " [0 0]\n",
      " ...\n",
      " [0 0]\n",
      " [0 0]\n",
      " [1 1]]\n"
     ]
    }
   ],
   "source": [
    "y_test_pred = classifier.predict(X_test)\n",
    "print(np.concatenate((y_test_pred.reshape(len(y_test_pred), 1),y_test.reshape(len(y_test),1)),1))"
   ]
  },
  {
   "cell_type": "code",
   "execution_count": 22,
   "metadata": {},
   "outputs": [
    {
     "name": "stdout",
     "output_type": "stream",
     "text": [
      "[[0 0]\n",
      " [1 1]\n",
      " [1 1]\n",
      " ...\n",
      " [0 0]\n",
      " [0 0]\n",
      " [1 1]]\n"
     ]
    }
   ],
   "source": [
    "y_train_pred = classifier.predict(X_train)\n",
    "print(np.concatenate((y_train_pred.reshape(len(y_train_pred), 1),y_train.reshape(len(y_train),1)),1))"
   ]
  },
  {
   "cell_type": "markdown",
   "metadata": {
    "id": "qwX8prswx4Ho"
   },
   "source": [
    "# Confusion Matrix and Accuracy Score\n"
   ]
  },
  {
   "cell_type": "code",
   "execution_count": 27,
   "metadata": {
    "colab": {
     "base_uri": "https://localhost:8080/"
    },
    "id": "hGI9PVQ9x3zC",
    "outputId": "694bb053-df21-4967-c4c7-af64500f7263"
   },
   "outputs": [
    {
     "name": "stdout",
     "output_type": "stream",
     "text": [
      "Confusion Matrix\n",
      "[[56386   477]\n",
      " [ 1813 55050]]\n"
     ]
    }
   ],
   "source": [
    "from sklearn.metrics import confusion_matrix, accuracy_score , classification_report\n",
    "cm = confusion_matrix(y_test , y_test_pred)\n",
    "print('Confusion Matrix')\n",
    "print(cm)"
   ]
  },
  {
   "attachments": {
    "acc.jpg": {
     "image/jpeg": "[encoded data removed]"
    }
   },
   "cell_type": "markdown",
   "metadata": {},
   "source": [
    "![acc.jpg](attachment:acc.jpg)"
   ]
  },
  {
   "cell_type": "code",
   "execution_count": 28,
   "metadata": {},
   "outputs": [
    {
     "data": {
      "text/plain": [
       "97.98638833687987"
      ]
     },
     "execution_count": 28,
     "metadata": {},
     "output_type": "execute_result"
    }
   ],
   "source": [
    "accuracy_score(y_test,y_test_pred)*100"
   ]
  },
  {
   "cell_type": "code",
   "execution_count": 29,
   "metadata": {},
   "outputs": [
    {
     "data": {
      "text/plain": [
       "98.02265972600811"
      ]
     },
     "execution_count": 29,
     "metadata": {},
     "output_type": "execute_result"
    }
   ],
   "source": [
    "accuracy_score(y_train,y_train_pred)*100"
   ]
  },
  {
   "cell_type": "markdown",
   "metadata": {},
   "source": [
    "The accuracy scores on test and training data are almost equal. So, model is not over-fitted."
   ]
  },
  {
   "attachments": {
    "prec.jpg": {
     "image/jpeg": "[encoded data removed]"
    }
   },
   "cell_type": "markdown",
   "metadata": {},
   "source": [
    "![prec.jpg](attachment:prec.jpg)"
   ]
  },
  {
   "cell_type": "markdown",
   "metadata": {},
   "source": [
    "   Precision: What proportion of positive identifications was actually correct? "
   ]
  },
  {
   "attachments": {
    "rec.jpg": {
     "image/jpeg": "[encoded data removed]"
    }
   },
   "cell_type": "markdown",
   "metadata": {},
   "source": [
    "![rec.jpg](attachment:rec.jpg)"
   ]
  },
  {
   "cell_type": "markdown",
   "metadata": {},
   "source": [
    "   Recall: What proportion of actual positives was identified correctly?"
   ]
  },
  {
   "cell_type": "code",
   "execution_count": 31,
   "metadata": {
    "scrolled": true
   },
   "outputs": [
    {
     "name": "stdout",
     "output_type": "stream",
     "text": [
      "Classification Report\n",
      "              precision    recall  f1-score   support\n",
      "\n",
      "           0       0.97      0.99      0.98     56863\n",
      "           1       0.99      0.97      0.98     56863\n",
      "\n",
      "    accuracy                           0.98    113726\n",
      "   macro avg       0.98      0.98      0.98    113726\n",
      "weighted avg       0.98      0.98      0.98    113726\n",
      "\n"
     ]
    }
   ],
   "source": [
    "print('Classification Report')\n",
    "print(classification_report(y_test,y_test_pred))"
   ]
  }
 ],
 "metadata": {
  "colab": {
   "collapsed_sections": [],
   "name": "LogisticRegression",
   "provenance": []
  },
  "kernelspec": {
   "display_name": "Python 3 (ipykernel)",
   "language": "python",
   "name": "python3"
  },
  "language_info": {
   "codemirror_mode": {
    "name": "ipython",
    "version": 3
   },
   "file_extension": ".py",
   "mimetype": "text/x-python",
   "name": "python",
   "nbconvert_exporter": "python",
   "pygments_lexer": "ipython3",
   "version": "3.9.7"
  }
 },
 "nbformat": 4,
 "nbformat_minor": 1
}
